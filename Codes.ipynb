{
 "cells": [
  {
   "cell_type": "markdown",
   "id": "e3c542ac",
   "metadata": {},
   "source": [
    "We have to run this part for all instantiations."
   ]
  },
  {
   "cell_type": "code",
   "execution_count": 8,
   "id": "984ee78f",
   "metadata": {},
   "outputs": [],
   "source": [
    "import collections\n",
    "import random\n",
    "from math import *\n",
    "import scipy.optimize as opt\n",
    "\n",
    "def H(c):\n",
    "    \"\"\"\n",
    "    Entropy function\n",
    "    \"\"\"\n",
    "    if c == 0. or c == 1.:\n",
    "        return 0.\n",
    "    \n",
    "    if c < 0. or c > 1.:\n",
    "        return -1000\n",
    "    \n",
    "    return -(c * log2(c) + (1 - c) * log2(1 - c))\n",
    "\n",
    "def binomH(n,k):\n",
    "    \"\"\"\n",
    "    binomial coefficient\n",
    "    \"\"\"\n",
    "    # if k/n not in ZZ:\n",
    "    #     return -100\n",
    "    if(n<=0):\n",
    "        return 0.\n",
    "    return n * H(k/n)\n",
    "\n",
    "def multiH(n,c):\n",
    "    \"\"\"\n",
    "    multinomial coefficient\n",
    "    \"\"\"\n",
    "    if sum(c)>n:\n",
    "        return 0\n",
    "    tot=0\n",
    "    val=n\n",
    "    for i in c:\n",
    "        tot+=binomH(n,i)\n",
    "        n-=i\n",
    "    return tot\n",
    "\n",
    "\n",
    "def wrap(f,g) :\n",
    "    def inner(x):\n",
    "        return f(g(*x))\n",
    "    return inner\n",
    "\n",
    "def r(x,y,z):\n",
    "    return [(ru(x,y)) for i in range(z)]"
   ]
  },
  {
   "cell_type": "markdown",
   "id": "f3f4db60",
   "metadata": {},
   "source": [
    "For Nested-2*"
   ]
  },
  {
   "cell_type": "code",
   "execution_count": 9,
   "id": "f37bb7fe",
   "metadata": {},
   "outputs": [
    {
     "name": "stdout",
     "output_type": "stream",
     "text": [
      "(0.5, 0.8425)\n"
     ]
    }
   ],
   "source": [
    "def reps1(n10,n00,e211,e201,e101,p): \n",
    "   #length of whole vec = p \n",
    "    if n10 <= 0.000001 or p == 0.:\n",
    "        return 0\n",
    "    if p < n10 or p - 2*n10 < 2*e101:\n",
    "        return 0.\n",
    "    \n",
    "    return 2*multiH(n10, [e211,e211,n10*.5-e211]) + multiH(p-2*n10,[e201,e201,e101,e101])\n",
    "\n",
    "\n",
    "def reps2(n11,n01,n21,e222,e212,e202,e102,p): \n",
    "    \n",
    "    if n11 < 0.000001 or p == 0.:\n",
    "        return 0.\n",
    "    if p < n11 or p<n21 or p - 2*n11 - n21 < 2*e102:\n",
    "        return 0.\n",
    "    \n",
    "    return 2*multiH(n21,[e222,e222])+2*multiH(n11, [e212, e212, n11*.5-e212])+multiH(n01, [e202, e202, e102, e102])\n",
    "\n",
    "\n",
    "\n",
    "set_vars = collections.namedtuple('LWE', ' e211 e201 e101 e222 e212 e202 e102 g b')\n",
    "def lwe(f) : return wrap(f, set_vars)\n",
    "\n",
    "\n",
    "n10 = lambda x : x.b*x.g*w/2\n",
    "n00 = lambda x : x.g*1 - 2*n10(x)\n",
    "\n",
    "n21 = lambda x : x.e211+x.e201\n",
    "n11 = lambda x : n10(x)/2+x.e101\n",
    "n01 = lambda x : x.g*1-n10(x)-2*(x.e101+x.e211+x.e201)\n",
    "\n",
    "n22 = lambda x : x.e222+x.e212+x.e202\n",
    "n12 = lambda x : n11(x)/2+x.e102+n21(x)-2*x.e222\n",
    "n02 = lambda x : x.g*1-n11(x)-2*n21(x)+2*(x.e222-x.e102-x.e212-x.e202)\n",
    "\n",
    "\n",
    "def time(x):\n",
    "    x=set_vars(*x)\n",
    "    good_D = multiH(1,[w/2,w/2]) - ss(x)\n",
    "    good_R = max(0,domain(x) - reps1(n10(x),n00(x),x.e211,x.e201,x.e101,x.g*1))\n",
    "    collisions_when_R_good = domain(x) - 2*reps2(n11(x),n01(x),n21(x),x.e222,x.e212,x.e202,x.e102,x.g*1)\n",
    "    one_collision=domain(x)\n",
    "    return good_R+collisions_when_R_good+one_collision+good_D\n",
    "\n",
    "\n",
    "\n",
    "\n",
    "domain = lambda x : multiH(x.g*1,[n22(x), n22(x), n12(x), n12(x)])+ multiH((1-x.g)*.25,[(1-x.b*x.g)*w*.125,(1-x.b*x.g)*w*.125])\n",
    "ss = lambda x : multiH(x.g,[x.g*x.b*w/2, x.g*x.b*w/2]) + 4*multiH((1-x.g)/4,[(1-x.g*x.b)*w*.125,(1-x.g*x.b)*w*.125])\n",
    "\n",
    "constraints_lwe = [\n",
    "# domain muss be equal to 1/2\n",
    "    \n",
    "{ 'type' : 'eq',   'fun' : lwe(lambda x : ss(x)/2-domain(x))},\n",
    "{ 'type' : 'ineq',   'fun' : lwe(lambda x : domain(x) - reps1(n10(x),n00(x),x.e211,x.e201,x.e101,x.g*1))},\n",
    "{ 'type' : 'ineq',   'fun' : lwe(lambda x : domain(x) - 2*reps2(n11(x),n01(x),n21(x),x.e222,x.e212,x.e202,x.e102,x.g*1))},\n",
    "{ 'type' : 'ineq',   'fun' : lwe(lambda x : -x.e211+n10(x)/2)},\n",
    "# { 'type' : 'ineq',   'fun' : lwe(lambda x : -x.e201+n00(x)/2)},\n",
    "# { 'type' : 'ineq',   'fun' : lwe(lambda x : -x.e101+n00(x)/2)},\n",
    "{ 'type' : 'ineq',   'fun' : lwe(lambda x : -x.e101-x.e201+n00(x)/2)},\n",
    "{ 'type' : 'ineq',   'fun' : lwe(lambda x : -x.e222+n21(x)/2)},\n",
    "{ 'type' : 'ineq',   'fun' : lwe(lambda x : -x.e212+n11(x)/2)},\n",
    "{ 'type' : 'ineq',   'fun' : lwe(lambda x : -x.e202-x.e102+n01(x)/2)},\n",
    "{ 'type' : 'ineq',   'fun' : lwe(lambda x : x.b - (1/x.g)+(1/(x.g*w))-(1/w))},\n",
    "{ 'type' : 'ineq',   'fun' : lwe(lambda x : 1-x.b)}, \n",
    "{ 'type' : 'ineq',   'fun' : lwe(lambda x :  multiH(1,[w/2,w/2]) - ss(x))},\n",
    "\n",
    "]\n",
    "\n",
    "    \n",
    "for i in range(25, 26):\n",
    "    w = i*.02\n",
    "    res = 100\n",
    "    ress = 5000\n",
    "    for j in range(5):\n",
    "        start=[uniform(0,.009), uniform(0,.009), uniform(0,.009),uniform(0,.009),uniform(0,.009),uniform(0,.009),uniform(0,.009), uniform(.01,1), uniform(.01,1)]\n",
    "        \n",
    "        bounds=[(0.,0.1)]*7+[(.01,1)]*2\n",
    "        result = opt.minimize(time, start, \n",
    "                bounds= bounds, tol=1e-12, \n",
    "                constraints=constraints_lwe, options={'maxiter':2000})\n",
    "        r = result.get('fun')\n",
    "        if(r < res and r >0 and result.get('message') == 'Optimization terminated successfully'):\n",
    "               res = r\n",
    "               ress = result\n",
    "    print((round(w,4),round(res,4)))   "
   ]
  },
  {
   "cell_type": "markdown",
   "id": "c82eeafe",
   "metadata": {},
   "source": [
    "For Nested-1+"
   ]
  },
  {
   "cell_type": "code",
   "execution_count": 10,
   "id": "54c156d9",
   "metadata": {},
   "outputs": [
    {
     "name": "stdout",
     "output_type": "stream",
     "text": [
      "(0.5, 0.8529)\n"
     ]
    }
   ],
   "source": [
    "def reps(p, m, d, l): \n",
    "    \"\"\"\n",
    "    representations of length-l vector with p ones and m minus ones\n",
    "    two length-l vectors with p/2+d ones and d minus ones each.\n",
    "    \"\"\"\n",
    "    if p <= 0.000001 or l == 0.:\n",
    "        return 0\n",
    "    if l < p or l - p < 2*d:\n",
    "        return 0.\n",
    "    \n",
    "    return p + m + multiH(l-p-m, [d,d]) \n",
    "\n",
    "\n",
    "set_vars = collections.namedtuple('LWE', 'd1 d2 g')\n",
    "def lwe(f) : return wrap(f, set_vars)\n",
    "\n",
    "def time(x):\n",
    "    x=set_vars(*x)\n",
    "    good_R = max(0,domain(x) - reps(x.g*w/2,x.g*w/2,x.d2,x.g))\n",
    "    collisions_when_R_good = domain(x) - 2*reps(x.g*w/4+x.d2,x.g*w/4+x.d2,x.d1,x.g)\n",
    "    one_collision=domain(x)\n",
    "    return good_R+collisions_when_R_good+one_collision\n",
    "\n",
    "domain = lambda x : multiH(x.g,[(x.g*w/4+x.d2)*.5+x.d1,(x.g*w/4+x.d2)*.5+x.d1]) + multiH((1-x.g)*.25,[(1-x.g)*w*.125,(1-x.g)*w*.125])\n",
    "\n",
    "constraints_lwe = [\n",
    "# domain muss be equal to 1/2\n",
    "{ 'type' : 'eq',   'fun' : lwe(lambda x : multiH(1,[w/2,w/2])*.5-domain(x))},\n",
    "{ 'type' : 'ineq',   'fun' : lwe(lambda x : domain(x) - reps(x.g*w/2,x.g*w/2,x.d2,x.g))},\n",
    "{ 'type' : 'ineq',   'fun' : lwe(lambda x : domain(x) - 2*reps(x.g*w/4+x.d2,x.g*w/4+x.d2,x.d1,x.g))},\n",
    "{ 'type' : 'ineq',   'fun' : lwe(lambda x : x.g-x.g*w-2*x.d2)},\n",
    "{ 'type' : 'ineq',   'fun' : lwe(lambda x : x.g-x.g*w/2-2*x.d2-2*x.d1)}\n",
    "\n",
    "]\n",
    "\n",
    "\n",
    "bounds=[(0,0.1)]*2+[(0.01,1)]\n",
    "for i in range(25,26):\n",
    "    w = i*.02\n",
    "    res = 100\n",
    "    for j in range(4):\n",
    "        start = [uniform(0,.009), uniform(0,.009), uniform(0.1,1)]  \n",
    "        result = opt.minimize(time, start, \n",
    "                bounds= bounds, tol=1e-12, \n",
    "                constraints=constraints_lwe, options={'maxiter':2000})\n",
    "        r = result.get('fun')\n",
    "        if(r < res and r >0 and result.get('message') == 'Optimization terminated successfully'):\n",
    "            res = r\n",
    "    print((round(w,4),round(res,4))) "
   ]
  },
  {
   "cell_type": "markdown",
   "id": "782cae22",
   "metadata": {},
   "source": [
    "For Nested-1*"
   ]
  },
  {
   "cell_type": "code",
   "execution_count": 11,
   "id": "53bf5258",
   "metadata": {},
   "outputs": [
    {
     "name": "stdout",
     "output_type": "stream",
     "text": [
      "(0.5, 0.8505)\n"
     ]
    }
   ],
   "source": [
    "def reps(p, m, d, l): \n",
    "    \"\"\"\n",
    "    representations of length-l vector with p ones and m minus ones\n",
    "    two length-l vectors with p/2+d ones and d minus ones each.\n",
    "    \"\"\"\n",
    "    if p <= 0.000001 or l == 0.:\n",
    "        return 0\n",
    "    if l < p or l - p < 2*d:\n",
    "        return 0.\n",
    "    \n",
    "    return p + m + multiH(l-p-m, [d,d]) \n",
    "\n",
    "\n",
    "set_vars = collections.namedtuple('LWE', 'd1 d2 g b')\n",
    "def lwe(f) : return wrap(f, set_vars)\n",
    "\n",
    "\n",
    "p2 = lambda x : x.b*x.g*w/4+x.d2\n",
    "p22 = lambda x : x.b*x.g*w/4+x.d2  #essentially same as p2\n",
    "\n",
    "\n",
    "p1 = lambda x : p2(x)/2+x.d1\n",
    "p11 = lambda x : p2(x)/2+x.d1      #essentially same as p1\n",
    "\n",
    "\n",
    "def time(x):\n",
    "    x=set_vars(*x)\n",
    "    good_D = multiH(1,[w/2,w/2]) - ss(x)\n",
    "    good_R = max(0,domain(x) - reps(x.b*x.g*w/2,x.b*x.g*w/2,x.d2,x.g))\n",
    "    collisions_when_R_good = domain(x) - 2*reps(p2(x),p22(x),x.d1,x.g)\n",
    "    one_collision=domain(x)\n",
    "    return good_R+collisions_when_R_good+one_collision+good_D\n",
    "\n",
    "\n",
    "\n",
    "domain = lambda x : multiH(x.g,[p1(x),p11(x)]) + multiH((1-x.g)*.25,[(1-x.b*x.g)*w*.125,(1-x.b*x.g)*w*.125])\n",
    "ss = lambda x : multiH(x.g,[x.g*x.b*w/2, x.g*x.b*w/2]) + 4*multiH((1-x.g)/4,[(1-x.g*x.b)*w*.125,(1-x.g*x.b)*w*.125])\n",
    "\n",
    "constraints_lwe = [\n",
    "# domain must be equal to 1/2\n",
    "{ 'type' : 'eq',   'fun' : lwe(lambda x : ss(x)*.5-domain(x))},\n",
    "{ 'type' : 'ineq',   'fun' : lwe(lambda x : domain(x) - reps(x.b*x.g*w/2,x.b*x.g*w/2,x.d2,x.g))},\n",
    "{ 'type' : 'ineq',   'fun' : lwe(lambda x : domain(x) - 2*reps(p2(x),p22(x),x.d1,x.g))},\n",
    "{ 'type' : 'ineq',   'fun' : lwe(lambda x : x.b - (1/x.g)+(1/(x.g*w))-(1/w))},\n",
    "{ 'type' : 'ineq',   'fun' : lwe(lambda x : 1-x.b)},\n",
    "{ 'type' : 'ineq',   'fun' : lwe(lambda x :  multiH(1,[w/2,w/2]) - ss(x))},\n",
    "{ 'type' : 'ineq',   'fun' : lwe(lambda x : x.g-x.b*x.g*w-2*x.d2)},\n",
    "{ 'type' : 'ineq',   'fun' : lwe(lambda x : x.g-x.b*x.g*w/2-2*x.d2-2*x.d1)}\n",
    "\n",
    "]\n",
    "\n",
    "\n",
    "bounds=[(0,0.1)]*2+[(0.01,1)]*2\n",
    "res = 100\n",
    "for i in range(25, 26):\n",
    "    w = i*.02\n",
    "    res = 100\n",
    "    for j in range(5):\n",
    "        start = [uniform(0,.009), uniform(0,.009), uniform(0.1,1), uniform(0.1,1)]        \n",
    "        result = opt.minimize(time, start, \n",
    "                bounds= bounds, tol=1e-12, \n",
    "                constraints=constraints_lwe, options={'maxiter':2000})\n",
    "        #print(result)\n",
    "        r = result.get('fun')\n",
    "        if(r < res and r >0 and result.get('message') == 'Optimization terminated successfully'):\n",
    "            res = r\n",
    "    print((round(w,4),round(res,4)))\n",
    "    "
   ]
  },
  {
   "cell_type": "markdown",
   "id": "669f777a",
   "metadata": {},
   "source": [
    "For van Vredendaal's instantiation."
   ]
  },
  {
   "cell_type": "code",
   "execution_count": 12,
   "id": "305d8c22",
   "metadata": {},
   "outputs": [
    {
     "name": "stdout",
     "output_type": "stream",
     "text": [
      "(0.5, 1.125)\n"
     ]
    }
   ],
   "source": [
    "def time(w):\n",
    "    tvv = multiH(1/2,[w/4,w/4])\n",
    "    tvv = tvv*(3/2)\n",
    "    return tvv\n",
    "\n",
    "for i in range(25,26):\n",
    "    w = .02*i\n",
    "    print((round(w,2) , round(time(w),4)))"
   ]
  },
  {
   "cell_type": "markdown",
   "id": "a5a66b33",
   "metadata": {},
   "source": [
    "For May's Rep-0 instantiation."
   ]
  },
  {
   "cell_type": "code",
   "execution_count": 13,
   "id": "27e2c7a2",
   "metadata": {},
   "outputs": [
    {
     "name": "stdout",
     "output_type": "stream",
     "text": [
      "(0.5, 1.0919)\n"
     ]
    }
   ],
   "source": [
    "def time(w):\n",
    "    T1 = multiH(1,[w/4,w/4])\n",
    "    R = 2*binomH(w/2,w/4)\n",
    "    Trep0 = T1*(3/2)-R\n",
    "    return Trep0\n",
    "\n",
    "for i in range(25,26):\n",
    "    w = .02*i\n",
    "    print((round(w,2) , round(time(w),4)))"
   ]
  },
  {
   "cell_type": "markdown",
   "id": "42c564ab",
   "metadata": {},
   "source": [
    "For May's Rep-1 instantiation."
   ]
  },
  {
   "cell_type": "code",
   "execution_count": 14,
   "id": "9620e374",
   "metadata": {},
   "outputs": [
    {
     "name": "stdout",
     "output_type": "stream",
     "text": [
      "(0.5, 0.9635)\n"
     ]
    }
   ],
   "source": [
    "set_vars = collections.namedtuple('LWE', 'd')\n",
    "def lwe(f) : return wrap(f, set_vars)\n",
    "\n",
    "def time(x):\n",
    "    x=set_vars(*x)\n",
    "    T1 = multiH(1,[w/4+x.d,w/4+x.d])\n",
    "    R = 2*binomH(w/2,w/4) + multiH(1-w,[x.d,x.d])\n",
    "    Trep1 = 1.5*T1 - R\n",
    "    return Trep1\n",
    "\n",
    "domain = lambda x : multiH(1,[w/4+x.d,w/4+x.d])\n",
    "ss = lambda x : multiH(1,[w/2,w/2])\n",
    "constraints_lwe = [\n",
    "#{ 'type' : 'ineq',   'fun' : lwe(lambda x : ss(x)-domain(x))},\n",
    "{ 'type' : 'ineq',   'fun' : lwe(lambda x : -2*x.d+1-w)},\n",
    "]\n",
    "\n",
    "start=[.001]\n",
    "bounds=[(0,0.1)]\n",
    "for i in range(25,26):\n",
    "    w = i*.02\n",
    "    result = opt.minimize(time, start, \n",
    "            bounds= bounds, tol=1e-12, \n",
    "            constraints=constraints_lwe, options={'maxiter':2000})\n",
    "    r = result.get('fun')\n",
    "    print((round(w,4),round(r,4)))"
   ]
  },
  {
   "cell_type": "markdown",
   "id": "83c9092e",
   "metadata": {},
   "source": [
    "For May's Rep-2 instantiation."
   ]
  },
  {
   "cell_type": "code",
   "execution_count": 15,
   "id": "76acba5c",
   "metadata": {},
   "outputs": [
    {
     "name": "stdout",
     "output_type": "stream",
     "text": [
      "(0.5, 0.962)\n"
     ]
    }
   ],
   "source": [
    "set_vars = collections.namedtuple('LWE', 'e21 e20 e10')\n",
    "def lwe(f) : return wrap(f, set_vars)\n",
    "\n",
    "n2 = lambda x :x.e21+x.e20\n",
    "n1 = lambda x :w/4 + x.e10\n",
    "n0 = lambda x :1-w/2-2*(x.e10+x.e21+x.e20)\n",
    "\n",
    "\n",
    "def time(x):\n",
    "    x=set_vars(*x)\n",
    "    T1 = multiH(1,[n2(x),n2(x),n1(x),n1(x)])\n",
    "    R = 2*multiH(w/2,[x.e21,x.e21,w/4-x.e21]) + multiH(1-w,[x.e20,x.e20,x.e10,x.e10])\n",
    "    Trep1 = 1.5*T1 - R\n",
    "    return Trep1\n",
    "\n",
    "\n",
    "domain = lambda x : multiH(1,[x.e21+x.e20,x.e21+x.e20,w/4 + x.e10,w/4 + x.e10])\n",
    "ss = lambda x : multiH(1,[w/2,w/2])\n",
    "constraints_lwe = [\n",
    "#{ 'type' : 'ineq',   'fun' : lwe(lambda x : ss(x)-domain(x))},\n",
    "{ 'type' : 'ineq',   'fun' : lwe(lambda x : -x.e21+w/4)},   \n",
    "{ 'type' : 'ineq',   'fun' : lwe(lambda x : -x.e10-x.e20+1/2-w/2)},   \n",
    "\n",
    "]\n",
    "\n",
    "\n",
    "res = 100\n",
    "bounds=[(0,0.1)]*3\n",
    "for i in range(25,26):\n",
    "    w = i*.02\n",
    "    res = 100\n",
    "    for j in range(10):\n",
    "        start = [uniform(0,.009), uniform(0,.009), uniform(0,.009)]\n",
    "        result = opt.minimize(time, start, \n",
    "                bounds= bounds, tol=1e-12, \n",
    "                constraints=constraints_lwe, options={'maxiter':2000})\n",
    "        r = result.get('fun')\n",
    "        if(r < res and r >0 and result.get('message') == 'Optimization terminated successfully'):\n",
    "            res = r\n",
    "    print((round(w,4),round(res,4)))\n",
    "    \n",
    "    \n",
    "    "
   ]
  }
 ],
 "metadata": {
  "kernelspec": {
   "display_name": "SageMath 9.5",
   "language": "sage",
   "name": "sagemath"
  },
  "language_info": {
   "codemirror_mode": {
    "name": "ipython",
    "version": 3
   },
   "file_extension": ".py",
   "mimetype": "text/x-python",
   "name": "python",
   "nbconvert_exporter": "python",
   "pygments_lexer": "ipython3",
   "version": "3.10.6"
  }
 },
 "nbformat": 4,
 "nbformat_minor": 5
}
